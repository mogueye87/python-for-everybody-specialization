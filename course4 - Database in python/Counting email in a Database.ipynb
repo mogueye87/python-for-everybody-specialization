{
 "cells": [
  {
   "cell_type": "markdown",
   "metadata": {},
   "source": [
    "# Using database with python\n",
    "- Use of an memory database like SQL Lite\n",
    "- Create Database schema and relations\n",
    "- Create Sql commands CRUD opération\n",
    "- Read raw data from a file, process it and save record in table"
   ]
  },
  {
   "cell_type": "code",
   "execution_count": 48,
   "metadata": {},
   "outputs": [
    {
     "name": "stdout",
     "output_type": "stream",
     "text": [
      "Enter filename:\n",
      "iupui.edu 536\n",
      "umich.edu 491\n",
      "indiana.edu 178\n",
      "caret.cam.ac.uk 157\n",
      "vt.edu 110\n",
      "uct.ac.za 96\n",
      "media.berkeley.edu 56\n",
      "ufp.pt 28\n",
      "gmail.com 25\n",
      "et.gatech.edu 17\n"
     ]
    }
   ],
   "source": [
    "# import of the sqllite3 module\n",
    "import sqlite3\n",
    "import re\n",
    "\n",
    "# Creation of an instance conn for connexion\n",
    "conn = sqlite3.connect(\"mbox.sqlite\")\n",
    "# creation of a cursor instance\n",
    "cur = conn.cursor()\n",
    "\n",
    "# Creation of the table Count if not exists\n",
    "cur.execute('''DROP TABLE IF EXISTS Counts''') \n",
    "\n",
    "cur.execute('''\n",
    "CREATE TABLE IF NOT EXISTS Counts(org TEXT, count INTEGER)\n",
    "''')\n",
    "\n",
    "# mail box file procession\n",
    "fname = input(\"Enter filename:\")\n",
    "if len(fname) < 1:\n",
    "    fname = 'mbox.txt'\n",
    "with open(fname) as f:\n",
    "    for line in f:\n",
    "        # skipping unwanted lines\n",
    "        if not line.startswith(\"From:\"): continue\n",
    "        line.rstrip() # deletion of whitespaces and tabs\n",
    "        # use of  regex to check wheter a line startwith\n",
    "        # From:\n",
    "        if re.search('^From:', line):\n",
    "            #print(line)\n",
    "            # splitting of the line in order to extract the email\n",
    "            #pieces = line.split() \n",
    "            #email = pieces[1]\n",
    "            matches = re.findall('^From: (\\S.+@.\\S+)', line)\n",
    "            email = matches[0]\n",
    "            email = email.split(\"@\")\n",
    "            org = email[1]\n",
    "            cur.execute('SELECT count FROM Counts WHERE org = ?', (org,))\n",
    "            row = cur.fetchone()\n",
    "            if row is None:\n",
    "                cur.execute(''' INSERT INTO Counts(org, count) \n",
    "                                VALUES (?, 1)''', (org, ))\n",
    "            else:\n",
    "                cur.execute('UPDATE Counts SET count = count + 1 WHERE org = ?', (org, ))\n",
    "            conn.commit()\n",
    "            \n",
    "# retrieving all current records in the relation Count      \n",
    "sqlstr = 'SELECT org, count FROM Counts ORDER BY count DESC LIMIT 10'\n",
    "    \n",
    "for row in cur.execute(sqlstr):\n",
    "        print(str(row[0]), row[1])\n",
    "cur.close()"
   ]
  },
  {
   "cell_type": "code",
   "execution_count": null,
   "metadata": {},
   "outputs": [],
   "source": []
  }
 ],
 "metadata": {
  "kernelspec": {
   "display_name": "Python 3",
   "language": "python",
   "name": "python3"
  },
  "language_info": {
   "codemirror_mode": {
    "name": "ipython",
    "version": 3
   },
   "file_extension": ".py",
   "mimetype": "text/x-python",
   "name": "python",
   "nbconvert_exporter": "python",
   "pygments_lexer": "ipython3",
   "version": "3.7.1"
  }
 },
 "nbformat": 4,
 "nbformat_minor": 2
}
