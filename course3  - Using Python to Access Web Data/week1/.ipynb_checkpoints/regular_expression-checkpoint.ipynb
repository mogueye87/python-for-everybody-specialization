{
 "cells": [
  {
   "cell_type": "markdown",
   "metadata": {},
   "source": [
    "# Regular Expression in python"
   ]
  },
  {
   "cell_type": "raw",
   "metadata": {},
   "source": [
    "^ Matches the beginning of a line\n",
    "$ Matches the end of the line\n",
    ". Matches any character\n",
    "\\s Matches whitespace\n",
    "\\S Matches any non-whitespace character\n",
    "* Repeats a character zero or more times\n",
    "*? Repeats a character zero or more times\n",
    " (non-greedy)\n",
    "+ Repeats a character one or more times\n",
    "+? Repeats a character one or more times\n",
    " (non-greedy)\n",
    "[aeiou] Matches a single character in the listed set\n",
    "[^XYZ] Matches a single character not in the listed set\n",
    "[a-z0-9] The set of characters can include a range\n",
    "( Indicates where string extraction is to start\n",
    ") Indicates where string extraction is to end"
   ]
  },
  {
   "cell_type": "code",
   "execution_count": 12,
   "metadata": {},
   "outputs": [
    {
     "name": "stdout",
     "output_type": "stream",
     "text": [
      "matches found!\n",
      "<re.Match object; span=(12, 19), match='excited'>\n"
     ]
    }
   ],
   "source": [
    "# Pour utiliser, une expression régulière, on importe le module re\n",
    "# re.search is similar to find\n",
    "import re\n",
    "line = \"Hello there excited learning regex or regexp\"\n",
    "matches = re.search('excited', line)\n",
    "if matches:\n",
    "    print(\"matches found!\")\n",
    "    print(matches)"
   ]
  },
  {
   "cell_type": "code",
   "execution_count": 14,
   "metadata": {},
   "outputs": [
    {
     "name": "stdout",
     "output_type": "stream",
     "text": [
      "Enter a filename:\n",
      "From stephen.marquard@uct.ac.za Sat Jan  5 09:14:16 2008\n",
      "From louis@media.berkeley.edu Fri Jan  4 18:10:48 2008\n",
      "From zqian@umich.edu Fri Jan  4 16:10:39 2008\n",
      "From rjlowe@iupui.edu Fri Jan  4 15:46:24 2008\n",
      "From zqian@umich.edu Fri Jan  4 15:03:18 2008\n",
      "From rjlowe@iupui.edu Fri Jan  4 14:50:18 2008\n",
      "From cwen@iupui.edu Fri Jan  4 11:37:30 2008\n",
      "From cwen@iupui.edu Fri Jan  4 11:35:08 2008\n",
      "From gsilver@umich.edu Fri Jan  4 11:12:37 2008\n",
      "From gsilver@umich.edu Fri Jan  4 11:11:52 2008\n",
      "From zqian@umich.edu Fri Jan  4 11:11:03 2008\n",
      "From gsilver@umich.edu Fri Jan  4 11:10:22 2008\n",
      "From wagnermr@iupui.edu Fri Jan  4 10:38:42 2008\n",
      "From zqian@umich.edu Fri Jan  4 10:17:43 2008\n",
      "From antranig@caret.cam.ac.uk Fri Jan  4 10:04:14 2008\n",
      "From gopal.ramasammycook@gmail.com Fri Jan  4 09:05:31 2008\n",
      "From david.horwitz@uct.ac.za Fri Jan  4 07:02:32 2008\n",
      "From david.horwitz@uct.ac.za Fri Jan  4 06:08:27 2008\n",
      "From david.horwitz@uct.ac.za Fri Jan  4 04:49:08 2008\n",
      "From david.horwitz@uct.ac.za Fri Jan  4 04:33:44 2008\n",
      "From stephen.marquard@uct.ac.za Fri Jan  4 04:07:34 2008\n",
      "From louis@media.berkeley.edu Thu Jan  3 19:51:21 2008\n",
      "From louis@media.berkeley.edu Thu Jan  3 17:18:23 2008\n",
      "From ray@media.berkeley.edu Thu Jan  3 17:07:00 2008\n",
      "From cwen@iupui.edu Thu Jan  3 16:34:40 2008\n",
      "From cwen@iupui.edu Thu Jan  3 16:29:07 2008\n",
      "From cwen@iupui.edu Thu Jan  3 16:23:48 2008\n"
     ]
    }
   ],
   "source": [
    "fname = input(\"Enter a filename:\")\n",
    "if len(fname) < 1: fname = \"mbox-short.txt\"\n",
    "fhandle = open(fname, 'r')\n",
    "\n",
    "for line in fhandle:\n",
    "    line = line.rstrip()\n",
    "    if not line.startswith('From '):\n",
    "        continue\n",
    "    print(line)\n"
   ]
  },
  {
   "cell_type": "code",
   "execution_count": null,
   "metadata": {},
   "outputs": [],
   "source": [
    "import re\n",
    "fname = input(\"Enter a filename:\")\n",
    "if len(fname) < 1: fname = \"mbox-short.txt\"\n",
    "fhandle = open(fname, 'r')\n",
    "list = list()\n",
    "for line in fhandle:\n",
    "    line = line.rstrip()\n",
    "    if re.search('^From ', line):\n",
    "        # print(line)\n",
    "        y = re.findall('^From (\\S+@\\S+?)', line)\n",
    "        list.append(y)\n",
    "print(list)"
   ]
  },
  {
   "cell_type": "code",
   "execution_count": 13,
   "metadata": {},
   "outputs": [
    {
     "name": "stdout",
     "output_type": "stream",
     "text": [
      "['42', '2']\n"
     ]
    }
   ],
   "source": [
    "import re\n",
    "line = \"hello I have pay 42 $, and I've finished 2 courses\"\n",
    "pattern = '[0-9]+'\n",
    "matches = re.findall(pattern, line)\n",
    "print(matches)"
   ]
  },
  {
   "cell_type": "code",
   "execution_count": 34,
   "metadata": {},
   "outputs": [
    {
     "name": "stdout",
     "output_type": "stream",
     "text": [
      "21\n",
      "31\n",
      "uct.ac.za\n",
      "['uct.ac.za '] ['uct.ac.za']\n"
     ]
    }
   ],
   "source": [
    "email = 'From stephen.marquard@uct.ac.za Sat Jan  5 09:14:16 2008'\n",
    "index = email.find('@')\n",
    "print(index)\n",
    "i = email.find(' ', index)\n",
    "print(i)\n",
    "host = email[index + 1: i]\n",
    "print(host)\n",
    "\n",
    "import re\n",
    "# Avec une regex\n",
    "res = re.findall('@(\\S+\\s)', email)\n",
    "res_met2 = re.findall('@([^ ]*)', email)\n",
    "# @ look at a String unti you find  @\n",
    "# [^ ] => looking for non blank character, every but not blank\n",
    "# * match many of them\n",
    "# () set of sequence we want to extract\n",
    "print(res, res_met2)"
   ]
  },
  {
   "cell_type": "code",
   "execution_count": null,
   "metadata": {},
   "outputs": [],
   "source": []
  }
 ],
 "metadata": {
  "kernelspec": {
   "display_name": "Python 3",
   "language": "python",
   "name": "python3"
  },
  "language_info": {
   "codemirror_mode": {
    "name": "ipython",
    "version": 3
   },
   "file_extension": ".py",
   "mimetype": "text/x-python",
   "name": "python",
   "nbconvert_exporter": "python",
   "pygments_lexer": "ipython3",
   "version": "3.7.1"
  }
 },
 "nbformat": 4,
 "nbformat_minor": 2
}
