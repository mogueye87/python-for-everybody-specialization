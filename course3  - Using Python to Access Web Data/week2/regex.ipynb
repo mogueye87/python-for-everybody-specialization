{
 "cells": [
  {
   "cell_type": "markdown",
   "metadata": {},
   "source": [
    "# Assignment expression regulière"
   ]
  },
  {
   "cell_type": "code",
   "execution_count": 13,
   "metadata": {},
   "outputs": [
    {
     "name": "stdout",
     "output_type": "stream",
     "text": [
      "Enter file name: \n",
      "[7746, 12, 1929, 8827, 7, 8837, 128] 27486\n"
     ]
    }
   ],
   "source": [
    "# find number in regular expression\n",
    "#import du package regex\n",
    "import re\n",
    "\n",
    "fname = input('Enter file name: ')\n",
    "if(len(fname) < 1):\n",
    "    fname = 'test.txt'\n",
    "fhandle = open(fname, 'r')\n",
    "pattern = '[0-9]+'\n",
    "matches = []\n",
    "for line in fhandle:\n",
    "    line = line.rstrip();\n",
    "    #print(line)\n",
    "    res = re.findall(pattern, line)\n",
    "    if len(res) == 0: continue\n",
    "    else:\n",
    "        for snum in res:\n",
    "            num = int(snum)\n",
    "            matches.append(num)\n",
    "print(matches, sum(matches))\n",
    "    "
   ]
  },
  {
   "cell_type": "code",
   "execution_count": 27,
   "metadata": {},
   "outputs": [
    {
     "name": "stdout",
     "output_type": "stream",
     "text": [
      "Enter file name: \n",
      "The sum of the num = 383295\n"
     ]
    }
   ],
   "source": [
    "# find number in regular expression\n",
    "# import du package/module regex\n",
    "import re\n",
    "\n",
    "fname = input('Enter file name: ')\n",
    "if(len(fname) < 1):\n",
    "    fname = 'regex_sum_42.txt'\n",
    "fhandle = open(fname, 'r')\n",
    "pattern = '[0-9]+'\n",
    "matches = []\n",
    "for line in fhandle:\n",
    "    line = line.rstrip();\n",
    "    #print(line)\n",
    "    res = re.findall(pattern, line)\n",
    "    if len(res) == 0: continue # skip the line that does not matches the regex pattern\n",
    "    else:\n",
    "        for snum in res:\n",
    "            num = int(snum)\n",
    "            matches.append(num)\n",
    "print(\"The sum of the num =\", sum(matches))\n"
   ]
  },
  {
   "cell_type": "code",
   "execution_count": 22,
   "metadata": {},
   "outputs": [
    {
     "data": {
      "text/plain": [
       "[1, 4, 9, 16]"
      ]
     },
     "execution_count": 22,
     "metadata": {},
     "output_type": "execute_result"
    }
   ],
   "source": []
  },
  {
   "cell_type": "markdown",
   "metadata": {},
   "source": [
    "# List comprehension"
   ]
  },
  {
   "cell_type": "code",
   "execution_count": 28,
   "metadata": {},
   "outputs": [
    {
     "data": {
      "text/plain": [
       "[1, 4, 9, 16]"
      ]
     },
     "execution_count": 28,
     "metadata": {},
     "output_type": "execute_result"
    }
   ],
   "source": [
    "numbers = [1, 2, 3, 4]\n",
    "[n**2 for n in numbers]"
   ]
  },
  {
   "cell_type": "code",
   "execution_count": 36,
   "metadata": {},
   "outputs": [
    {
     "name": "stdout",
     "output_type": "stream",
     "text": [
      "[0, 1, 4, 9, 16, 25, 36, 49, 64, 81]\n"
     ]
    }
   ],
   "source": [
    "# print( sum( [line for line in fhandle ('[0-9]+', fhandle.read()) ] ) )\n",
    "# print( sum( [ ****** *** * in **********('[0-9]+',**************************.read()) ] ) )\n",
    "squares = [x**2 for x in range(10)]\n",
    "print(squares)"
   ]
  },
  {
   "cell_type": "code",
   "execution_count": null,
   "metadata": {},
   "outputs": [],
   "source": []
  }
 ],
 "metadata": {
  "kernelspec": {
   "display_name": "Python 3",
   "language": "python",
   "name": "python3"
  },
  "language_info": {
   "codemirror_mode": {
    "name": "ipython",
    "version": 3
   },
   "file_extension": ".py",
   "mimetype": "text/x-python",
   "name": "python",
   "nbconvert_exporter": "python",
   "pygments_lexer": "ipython3",
   "version": "3.7.1"
  }
 },
 "nbformat": 4,
 "nbformat_minor": 2
}
