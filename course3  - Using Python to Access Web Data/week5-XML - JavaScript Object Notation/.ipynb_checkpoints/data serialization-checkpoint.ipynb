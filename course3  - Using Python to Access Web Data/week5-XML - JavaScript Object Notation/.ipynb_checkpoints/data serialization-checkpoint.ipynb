{
 "cells": [
  {
   "cell_type": "markdown",
   "metadata": {},
   "source": [
    "# Using python to access web data\n",
    "\n",
    "- Serialization \n",
    "- XML data format \n",
    "- XML parsing with ElementTree"
   ]
  },
  {
   "cell_type": "code",
   "execution_count": null,
   "metadata": {},
   "outputs": [],
   "source": [
    "import xml.etree.ElementTree as ET\n",
    "\n",
    "data = '''\n",
    "<person>\n",
    "  <name>Chuck</name>\n",
    "  <phone type=\"intl\">\n",
    "    +1 734 303 4456\n",
    "  </phone>\n",
    "  <email hide=\"yes\" />\n",
    "</person>'''\n",
    "\n",
    "# call of the method fromstring to parse the xml data to an object\n",
    "tree = ET.fromstring(data)\n",
    "# extract the name from the xml element\n",
    "name = tree.find('name').text\n",
    "email = tree.find('email').get('hide')\n",
    "print('Name:', name)\n",
    "print('Attr:', email)"
   ]
  },
  {
   "cell_type": "markdown",
   "metadata": {},
   "source": [
    "# Worked example: Xml \n",
    "## Example 2: cas d'un fichier XML, findall method of ElemeentTree"
   ]
  },
  {
   "cell_type": "code",
   "execution_count": null,
   "metadata": {},
   "outputs": [],
   "source": [
    "import xml.etree.ElementTree as ET\n",
    "\n",
    "input = '''\n",
    "<stuff>\n",
    "  <users>\n",
    "    <user x=\"2\">\n",
    "      <id>001</id>\n",
    "      <name>Chuck</name>\n",
    "    </user>\n",
    "    <user x=\"7\">\n",
    "      <id>009</id>\n",
    "      <name>Brent</name>\n",
    "    </user>\n",
    "  </users>\n",
    "</stuff>'''\n",
    "\n",
    "stuff = ET.fromstring(input)\n",
    "lst = stuff.findall('users/user')\n",
    "print('User count:', len(lst))\n",
    "\n",
    "for item in lst:\n",
    "    print('Name', item.find('name').text)\n",
    "    print('Id', item.find('id').text)\n",
    "    print('Attribute', item.get('x'))\n"
   ]
  },
  {
   "cell_type": "markdown",
   "metadata": {},
   "source": [
    "### Web scraping \n",
    "- utiliser urllib pour extraire des données sur le web\n",
    "- BeautifulSoup pour parser du html\n"
   ]
  },
  {
   "cell_type": "code",
   "execution_count": 4,
   "metadata": {},
   "outputs": [
    {
     "name": "stdout",
     "output_type": "stream",
     "text": [
      "[<Element 'comment' at 0x000002B58CE759A8>, <Element 'comment' at 0x000002B58CE75A98>, <Element 'comment' at 0x000002B58CE75B88>, <Element 'comment' at 0x000002B58CE75C78>, <Element 'comment' at 0x000002B58CE75D68>, <Element 'comment' at 0x000002B58CE75E58>, <Element 'comment' at 0x000002B58CE75F48>, <Element 'comment' at 0x000002B58CE9F098>, <Element 'comment' at 0x000002B58CE9F188>, <Element 'comment' at 0x000002B58CE9F278>, <Element 'comment' at 0x000002B58CE9F368>, <Element 'comment' at 0x000002B58CE9F458>, <Element 'comment' at 0x000002B58CE9F548>, <Element 'comment' at 0x000002B58CE9F638>, <Element 'comment' at 0x000002B58CE9F728>, <Element 'comment' at 0x000002B58CE9F818>, <Element 'comment' at 0x000002B58CE9F908>, <Element 'comment' at 0x000002B58CE9F9F8>, <Element 'comment' at 0x000002B58CE9FAE8>, <Element 'comment' at 0x000002B58CE9FBD8>, <Element 'comment' at 0x000002B58CE9FCC8>, <Element 'comment' at 0x000002B58CE9FDB8>, <Element 'comment' at 0x000002B58CE9FEA8>, <Element 'comment' at 0x000002B58CE9FF98>, <Element 'comment' at 0x000002B58CEAF0E8>, <Element 'comment' at 0x000002B58CEAF1D8>, <Element 'comment' at 0x000002B58CEAF2C8>, <Element 'comment' at 0x000002B58CEAF3B8>, <Element 'comment' at 0x000002B58CEAF4A8>, <Element 'comment' at 0x000002B58CEAF598>, <Element 'comment' at 0x000002B58CEAF688>, <Element 'comment' at 0x000002B58CEAF778>, <Element 'comment' at 0x000002B58CEAF868>, <Element 'comment' at 0x000002B58CEAF908>, <Element 'comment' at 0x000002B58CEAF9F8>, <Element 'comment' at 0x000002B58CEAFAE8>, <Element 'comment' at 0x000002B58CEAFBD8>, <Element 'comment' at 0x000002B58CEAFCC8>, <Element 'comment' at 0x000002B58CEAFDB8>, <Element 'comment' at 0x000002B58CEAFEA8>, <Element 'comment' at 0x000002B58CEAFF98>, <Element 'comment' at 0x000002B58D0790E8>, <Element 'comment' at 0x000002B58D0791D8>, <Element 'comment' at 0x000002B58D0792C8>, <Element 'comment' at 0x000002B58D0793B8>, <Element 'comment' at 0x000002B58D0794A8>, <Element 'comment' at 0x000002B58D079598>, <Element 'comment' at 0x000002B58D079688>, <Element 'comment' at 0x000002B58D079778>, <Element 'comment' at 0x000002B58D079868>]\n",
      "<Element 'comment' at 0x000002B58CE759A8>\n",
      "<Element 'comment' at 0x000002B58CE75A98>\n",
      "<Element 'comment' at 0x000002B58CE75B88>\n",
      "<Element 'comment' at 0x000002B58CE75C78>\n",
      "<Element 'comment' at 0x000002B58CE75D68>\n",
      "<Element 'comment' at 0x000002B58CE75E58>\n",
      "<Element 'comment' at 0x000002B58CE75F48>\n",
      "<Element 'comment' at 0x000002B58CE9F098>\n",
      "<Element 'comment' at 0x000002B58CE9F188>\n",
      "<Element 'comment' at 0x000002B58CE9F278>\n",
      "<Element 'comment' at 0x000002B58CE9F368>\n",
      "<Element 'comment' at 0x000002B58CE9F458>\n",
      "<Element 'comment' at 0x000002B58CE9F548>\n",
      "<Element 'comment' at 0x000002B58CE9F638>\n",
      "<Element 'comment' at 0x000002B58CE9F728>\n",
      "<Element 'comment' at 0x000002B58CE9F818>\n",
      "<Element 'comment' at 0x000002B58CE9F908>\n",
      "<Element 'comment' at 0x000002B58CE9F9F8>\n",
      "<Element 'comment' at 0x000002B58CE9FAE8>\n",
      "<Element 'comment' at 0x000002B58CE9FBD8>\n",
      "<Element 'comment' at 0x000002B58CE9FCC8>\n",
      "<Element 'comment' at 0x000002B58CE9FDB8>\n",
      "<Element 'comment' at 0x000002B58CE9FEA8>\n",
      "<Element 'comment' at 0x000002B58CE9FF98>\n",
      "<Element 'comment' at 0x000002B58CEAF0E8>\n",
      "<Element 'comment' at 0x000002B58CEAF1D8>\n",
      "<Element 'comment' at 0x000002B58CEAF2C8>\n",
      "<Element 'comment' at 0x000002B58CEAF3B8>\n",
      "<Element 'comment' at 0x000002B58CEAF4A8>\n",
      "<Element 'comment' at 0x000002B58CEAF598>\n",
      "<Element 'comment' at 0x000002B58CEAF688>\n",
      "<Element 'comment' at 0x000002B58CEAF778>\n",
      "<Element 'comment' at 0x000002B58CEAF868>\n",
      "<Element 'comment' at 0x000002B58CEAF908>\n",
      "<Element 'comment' at 0x000002B58CEAF9F8>\n",
      "<Element 'comment' at 0x000002B58CEAFAE8>\n",
      "<Element 'comment' at 0x000002B58CEAFBD8>\n",
      "<Element 'comment' at 0x000002B58CEAFCC8>\n",
      "<Element 'comment' at 0x000002B58CEAFDB8>\n",
      "<Element 'comment' at 0x000002B58CEAFEA8>\n",
      "<Element 'comment' at 0x000002B58CEAFF98>\n",
      "<Element 'comment' at 0x000002B58D0790E8>\n",
      "<Element 'comment' at 0x000002B58D0791D8>\n",
      "<Element 'comment' at 0x000002B58D0792C8>\n",
      "<Element 'comment' at 0x000002B58D0793B8>\n",
      "<Element 'comment' at 0x000002B58D0794A8>\n",
      "<Element 'comment' at 0x000002B58D079598>\n",
      "<Element 'comment' at 0x000002B58D079688>\n",
      "<Element 'comment' at 0x000002B58D079778>\n",
      "<Element 'comment' at 0x000002B58D079868>\n"
     ]
    },
    {
     "data": {
      "text/plain": [
       "2311"
      ]
     },
     "execution_count": 4,
     "metadata": {},
     "output_type": "execute_result"
    }
   ],
   "source": [
    "import urllib.request, urllib.error, urllib.response\n",
    "import xml.etree.ElementTree as ET\n",
    "import ssl\n",
    "\n",
    "# creation d'une chaine de caractère \n",
    "def lookup(d, key):\n",
    "    found = False\n",
    "    for child in d:\n",
    "        if found : return child.text\n",
    "        if child.tag == 'key' and child.text == key :\n",
    "            found = True\n",
    "    return None\n",
    "\n",
    "fhand = urllib.request.urlopen(\"http://py4e-data.dr-chuck.net/comments_193217.xml\")\n",
    "dataString = convertXMLToString(fhand)\n",
    "data = ET.fromstring(dataString)\n",
    "comments = data.findall('comments/comment')\n",
    "comment_dict = {}\n",
    "for comment in comments:\n",
    "    print(comment)\n",
    "    name = comment.find('name').text\n",
    "    count = comment.find('count').text\n",
    "    comment_dict[name] = comment_dict.get(name, 0) + int(count)\n",
    "comment_dict\n",
    "sum(comment_dict.values())"
   ]
  },
  {
   "cell_type": "code",
   "execution_count": null,
   "metadata": {},
   "outputs": [],
   "source": []
  }
 ],
 "metadata": {
  "kernelspec": {
   "display_name": "Python 3",
   "language": "python",
   "name": "python3"
  },
  "language_info": {
   "codemirror_mode": {
    "name": "ipython",
    "version": 3
   },
   "file_extension": ".py",
   "mimetype": "text/x-python",
   "name": "python",
   "nbconvert_exporter": "python",
   "pygments_lexer": "ipython3",
   "version": "3.7.1"
  }
 },
 "nbformat": 4,
 "nbformat_minor": 2
}
