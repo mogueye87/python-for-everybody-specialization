{
 "cells": [
  {
   "cell_type": "markdown",
   "metadata": {},
   "source": [
    "# Worked assignment"
   ]
  },
  {
   "cell_type": "code",
   "execution_count": 1,
   "metadata": {},
   "outputs": [
    {
     "name": "stdout",
     "output_type": "stream",
     "text": [
      "Enter hours:45\n",
      "Enter rate:10.50\n",
      "Pay:  498.75\n"
     ]
    }
   ],
   "source": [
    "sh = input(\"Enter hours:\")\n",
    "sr = input(\"Enter rate:\")\n",
    "# surround the float function with try/except block, in order to catch exception\n",
    "try:\n",
    "    fh = float(sh)\n",
    "    fr = float(sr)\n",
    "except:\n",
    "    print(\"Please, convert user input into a number!\")\n",
    "    #quit()\n",
    "    fh = -1\n",
    "    fr = -1\n",
    "\n",
    "if  fh > 40:\n",
    "    reg = fh * fr\n",
    "    otp = (fh - 40.0) * (fr * 0.5)\n",
    "    pay = reg + otp\n",
    "else:\n",
    "    pay = fh * fr\n",
    "print(\"Pay: \", pay)"
   ]
  },
  {
   "cell_type": "code",
   "execution_count": null,
   "metadata": {},
   "outputs": [
    {
     "name": "stdout",
     "output_type": "stream",
     "text": [
      "Enter a number: test\n",
      "Invalid input\n"
     ]
    }
   ],
   "source": [
    "largest = None\n",
    "smallest = None\n",
    "while True:\n",
    "    num = input(\"Enter a number: \")\n",
    "    if num == \"done\" : break\n",
    "    try:\n",
    "        inum = int(num)\n",
    "        # traitement pour le calcul du max\n",
    "        if largest is None:\n",
    "            largest = inum\n",
    "        elif inum > largest:\n",
    "            largest = inum \n",
    "      # traitement pour le minimum\n",
    "        if smallest is None:\n",
    "            smallest = inum\n",
    "        elif inum < smallest:\n",
    "            smallest = inum\n",
    "    except:\n",
    "        print(\"Invalid input\")\n",
    "        continue\n",
    "print(\"Maximum\", largest)\n",
    "print(\"Minimum\", smallest)"
   ]
  },
  {
   "cell_type": "code",
   "execution_count": null,
   "metadata": {},
   "outputs": [],
   "source": []
  }
 ],
 "metadata": {
  "kernelspec": {
   "display_name": "Python 3",
   "language": "python",
   "name": "python3"
  },
  "language_info": {
   "codemirror_mode": {
    "name": "ipython",
    "version": 3
   },
   "file_extension": ".py",
   "mimetype": "text/x-python",
   "name": "python",
   "nbconvert_exporter": "python",
   "pygments_lexer": "ipython3",
   "version": "3.7.1"
  }
 },
 "nbformat": 4,
 "nbformat_minor": 2
}
