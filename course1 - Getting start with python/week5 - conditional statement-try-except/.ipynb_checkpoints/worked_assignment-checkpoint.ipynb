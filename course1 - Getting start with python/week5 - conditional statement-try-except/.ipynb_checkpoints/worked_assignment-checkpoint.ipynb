{
 "cells": [
  {
   "cell_type": "markdown",
   "metadata": {},
   "source": [
    "# Worked assignment"
   ]
  },
  {
   "cell_type": "code",
   "execution_count": 6,
   "metadata": {},
   "outputs": [
    {
     "name": "stdout",
     "output_type": "stream",
     "text": [
      "Enter hours:45\n",
      "Enter rate:10.50\n",
      "498.75\n"
     ]
    }
   ],
   "source": [
    "sh = input(\"Enter hours:\")\n",
    "sr = input(\"Enter rate:\")\n",
    "# surround the float function with try/except block, in order to catch exception\n",
    "try:\n",
    "    fh = float(sh)\n",
    "    fr = float(sr)\n",
    "except:\n",
    "    print(\"Please, convert user input into a number!\")\n",
    "    #quit()\n",
    "    fh = -1\n",
    "    fr = -1\n",
    "    \n",
    "if  fh > 40:\n",
    "    reg = fh * fr\n",
    "    otp = (fh - 40.0) * (fr * 0.5)\n",
    "    pay = reg + otp\n",
    "else:\n",
    "    pay = fh * fr\n",
    "print(\"Pay: \", pay)"
   ]
  },
  {
   "cell_type": "code",
   "execution_count": null,
   "metadata": {},
   "outputs": [],
   "source": []
  }
 ],
 "metadata": {
  "kernelspec": {
   "display_name": "Python 3",
   "language": "python",
   "name": "python3"
  },
  "language_info": {
   "codemirror_mode": {
    "name": "ipython",
    "version": 3
   },
   "file_extension": ".py",
   "mimetype": "text/x-python",
   "name": "python",
   "nbconvert_exporter": "python",
   "pygments_lexer": "ipython3",
   "version": "3.7.1"
  }
 },
 "nbformat": 4,
 "nbformat_minor": 2
}
