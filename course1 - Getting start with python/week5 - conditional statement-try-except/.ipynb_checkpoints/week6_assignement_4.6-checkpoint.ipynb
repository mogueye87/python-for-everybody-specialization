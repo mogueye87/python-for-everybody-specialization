{
 "cells": [
  {
   "cell_type": "code",
   "execution_count": 7,
   "metadata": {},
   "outputs": [
    {
     "name": "stdout",
     "output_type": "stream",
     "text": [
      "Enter Hours:30\n",
      "Enter Rate:10.50\n",
      "Pay 315.0\n"
     ]
    }
   ],
   "source": [
    "# compute salary function definition\n",
    "def computepay(h,r):\n",
    "    if h > 40:\n",
    "        bpay = h * r\n",
    "        opay = (h - 40.0) * (0.5 * r)\n",
    "        gpay = bpay + opay\n",
    "    else:\n",
    "        gpay = h * r\n",
    "    return gpay\n",
    "#prompt user input for hours\n",
    "hrs = input(\"Enter Hours:\")\n",
    "h = float(hrs)\n",
    "\n",
    "#promt user input for rate\n",
    "rt = input(\"Enter Rate:\")\n",
    "r = float(rt)\n",
    "\n",
    "#computepay function invokation, call\n",
    "p = computepay(h, r)\n",
    "print(\"Pay\",p)"
   ]
  },
  {
   "cell_type": "code",
   "execution_count": 9,
   "metadata": {},
   "outputs": [
    {
     "name": "stdout",
     "output_type": "stream",
     "text": [
      "5\n",
      "4\n",
      "3\n",
      "2\n",
      "1\n",
      "max is =  5\n"
     ]
    }
   ],
   "source": [
    "table = [5, 4, 3, 2, 1]\n",
    "max = 0\n",
    "for i in table:\n",
    "    print(i)\n",
    "    if i > max:\n",
    "        max = i\n",
    "print(\"max is = \", max)"
   ]
  },
  {
   "cell_type": "code",
   "execution_count": 40,
   "metadata": {},
   "outputs": [
    {
     "name": "stdout",
     "output_type": "stream",
     "text": [
      "min is =  10\n",
      "max is =  15\n",
      "sum is =  64\n"
     ]
    }
   ],
   "source": [
    "table = [15, 14, 13, 12, 10]\n",
    "max = 0\n",
    "min = None #setter a None la valeur de min\n",
    "sum = 0\n",
    "i = 0\n",
    "#print(\"Before: \", min)\n",
    "for i in range(len(table)):\n",
    "    sum  = sum + table[i]\n",
    "    if table[i] > max:\n",
    "        max = table[i]\n",
    "    if min is None:      # Si min is None alors min = table[i]\n",
    "        min = table[i]   # A cette etape la valeur de min n'est plus None\n",
    "    elif table[i] < min: # sinon\n",
    "        min = table[i]\n",
    "print(\"min is = \", min)\n",
    "print(\"max is = \", max)\n",
    "print(\"sum is = \", sum)"
   ]
  },
  {
   "cell_type": "code",
   "execution_count": 38,
   "metadata": {},
   "outputs": [
    {
     "name": "stdout",
     "output_type": "stream",
     "text": [
      "5\n",
      "4\n",
      "3\n",
      "2\n",
      "1\n",
      "count = 5\n"
     ]
    }
   ],
   "source": [
    "table = [5, 4, 3, 2, 1]\n",
    "i = 0\n",
    "count = 0\n",
    "while i < len(table):\n",
    "    print(table[i])\n",
    "    count = count + 1\n",
    "    i = i + 1\n",
    "print(\"count =\",  count)"
   ]
  },
  {
   "cell_type": "code",
   "execution_count": 3,
   "metadata": {},
   "outputs": [
    {
     "name": "stdout",
     "output_type": "stream",
     "text": [
      "A\n",
      "B\n",
      "C\n",
      "D\n",
      "E\n",
      "F\n",
      "fin du boucle for\n"
     ]
    }
   ],
   "source": [
    "chars = ['A', 'B', 'C', 'D', 'E', 'F']\n",
    "for char in chars:\n",
    "    print(char)\n",
    "print('fin du boucle for')"
   ]
  },
  {
   "cell_type": "code",
   "execution_count": 43,
   "metadata": {},
   "outputs": [
    {
     "ename": "SyntaxError",
     "evalue": "invalid syntax (<ipython-input-43-1c97019ebf98>, line 2)",
     "output_type": "error",
     "traceback": [
      "\u001b[1;36m  File \u001b[1;32m\"<ipython-input-43-1c97019ebf98>\"\u001b[1;36m, line \u001b[1;32m2\u001b[0m\n\u001b[1;33m    while(inp != \"done\"){\u001b[0m\n\u001b[1;37m                        ^\u001b[0m\n\u001b[1;31mSyntaxError\u001b[0m\u001b[1;31m:\u001b[0m invalid syntax\n"
     ]
    }
   ],
   "source": [
    "inp = input('Enter a number:')\n",
    "while(inp != \"done\"){\n",
    "    print(input)\n",
    "    #inp = input('Enter a number:')\n",
    "}\n",
    "print(\"done\")"
   ]
  },
  {
   "cell_type": "code",
   "execution_count": null,
   "metadata": {},
   "outputs": [],
   "source": []
  }
 ],
 "metadata": {
  "kernelspec": {
   "display_name": "Python 3",
   "language": "python",
   "name": "python3"
  },
  "language_info": {
   "codemirror_mode": {
    "name": "ipython",
    "version": 3
   },
   "file_extension": ".py",
   "mimetype": "text/x-python",
   "name": "python",
   "nbconvert_exporter": "python",
   "pygments_lexer": "ipython3",
   "version": "3.7.1"
  }
 },
 "nbformat": 4,
 "nbformat_minor": 2
}
