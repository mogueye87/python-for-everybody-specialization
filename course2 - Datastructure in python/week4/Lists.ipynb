{
 "cells": [
  {
   "cell_type": "markdown",
   "metadata": {},
   "source": [
    "# List in Python"
   ]
  },
  {
   "cell_type": "code",
   "execution_count": 34,
   "metadata": {},
   "outputs": [
    {
     "name": "stdout",
     "output_type": "stream",
     "text": [
      "Enter file name: romeo.txt\n",
      "['Arise', 'But', 'It', 'Juliet', 'Who', 'already', 'and', 'breaks', 'east', 'envious', 'fair', 'grief', 'is', 'kill', 'light', 'moon', 'pale', 'sick', 'soft', 'sun', 'the', 'through', 'what', 'window', 'with', 'yonder']\n"
     ]
    }
   ],
   "source": [
    "fname = input(\"Enter file name: \")\n",
    "fh = open(fname)\n",
    "lst = list()\n",
    "for line in fh:\n",
    "    line = line.rstrip()\n",
    "    line = line.split()\n",
    "    for wd in line:\n",
    "        if lst.__contains__(wd):\n",
    "            continue\n",
    "        lst.append(wd)\n",
    "        lst.sort()\n",
    "print(lst)"
   ]
  },
  {
   "cell_type": "code",
   "execution_count": 46,
   "metadata": {},
   "outputs": [
    {
     "name": "stdout",
     "output_type": "stream",
     "text": [
      "Enter file name: mbox-short.txt\n",
      "stephen.marquard@uct.ac.za\n",
      "louis@media.berkeley.edu\n",
      "zqian@umich.edu\n",
      "rjlowe@iupui.edu\n",
      "zqian@umich.edu\n",
      "rjlowe@iupui.edu\n",
      "cwen@iupui.edu\n",
      "cwen@iupui.edu\n",
      "gsilver@umich.edu\n",
      "gsilver@umich.edu\n",
      "zqian@umich.edu\n",
      "gsilver@umich.edu\n",
      "wagnermr@iupui.edu\n",
      "zqian@umich.edu\n",
      "antranig@caret.cam.ac.uk\n",
      "gopal.ramasammycook@gmail.com\n",
      "david.horwitz@uct.ac.za\n",
      "david.horwitz@uct.ac.za\n",
      "david.horwitz@uct.ac.za\n",
      "david.horwitz@uct.ac.za\n",
      "stephen.marquard@uct.ac.za\n",
      "louis@media.berkeley.edu\n",
      "louis@media.berkeley.edu\n",
      "ray@media.berkeley.edu\n",
      "cwen@iupui.edu\n",
      "cwen@iupui.edu\n",
      "cwen@iupui.edu\n",
      "There were 27 lines in the file with From as the first word\n"
     ]
    }
   ],
   "source": [
    "fname = input(\"Enter file name: \")\n",
    "if len(fname) < 1 : fname = \"mbox-short.txt\"\n",
    "\n",
    "fh = open(fname)\n",
    "count = 0\n",
    "for line in fh:\n",
    "    if not line.startswith('From '):\n",
    "        continue\n",
    "    line = line.rstrip()\n",
    "    words = line.split()\n",
    "    count = count + 1\n",
    "    print(words[1])\n",
    "\n",
    "print(\"There were\", count, \"lines in the file with From as the first word\")\n"
   ]
  },
  {
   "cell_type": "markdown",
   "metadata": {},
   "source": [
    "# Dictionnaires en python"
   ]
  },
  {
   "cell_type": "code",
   "execution_count": 47,
   "metadata": {},
   "outputs": [
    {
     "name": "stdout",
     "output_type": "stream",
     "text": [
      "{'money': 12, 'candy': 3, 'tissues': 75}\n"
     ]
    }
   ],
   "source": [
    "# creating a dictionary in python\n",
    "purse = dict()\n",
    "purse['money'] = 12\n",
    "purse[\"candy\"] = 3\n",
    "purse[\"tissues\"] = 75\n",
    "print(purse)"
   ]
  },
  {
   "cell_type": "code",
   "execution_count": 81,
   "metadata": {},
   "outputs": [
    {
     "name": "stdout",
     "output_type": "stream",
     "text": [
      "money 25\n",
      "candy 3\n",
      "tissues 75\n",
      "dict_items([('money', 25), ('candy', 3), ('tissues', 75)])\n"
     ]
    }
   ],
   "source": [
    "# looping through a dictionary\n",
    "for key in purse:\n",
    "    print(key, purse[key])\n",
    "\n",
    "purse[\"money\"]=25\n",
    "\n",
    "for k in purse:\n",
    "    items = purse.items()\n",
    "print(items)"
   ]
  },
  {
   "cell_type": "code",
   "execution_count": 57,
   "metadata": {},
   "outputs": [
    {
     "data": {
      "text/plain": [
       "[25, 24, 30]"
      ]
     },
     "execution_count": 57,
     "metadata": {},
     "output_type": "execute_result"
    }
   ],
   "source": [
    "list = list()\n",
    "list.append(25)\n",
    "list.append(24)\n",
    "list.append(30)\n",
    "list"
   ]
  },
  {
   "cell_type": "code",
   "execution_count": 62,
   "metadata": {},
   "outputs": [
    {
     "data": {
      "text/plain": [
       "[1, 1, 1, 1, 25, 24, 30]"
      ]
     },
     "execution_count": 62,
     "metadata": {},
     "output_type": "execute_result"
    }
   ],
   "source": [
    "list.insert(0, 1)\n",
    "list"
   ]
  },
  {
   "cell_type": "code",
   "execution_count": 88,
   "metadata": {},
   "outputs": [
    {
     "name": "stdout",
     "output_type": "stream",
     "text": [
      "{'csev': 2, 'cwen': 2, 'zqian': 1}\n"
     ]
    }
   ],
   "source": [
    "counts = dict()\n",
    "names = ['csev', 'cwen', 'csev', 'zqian', 'cwen']\n",
    "#parcours de la liste des noms\n",
    "for name in names:\n",
    "    if name not in counts:\n",
    "        counts[name] = 1\n",
    "    else:\n",
    "        counts[name] = counts[name] + 1\n",
    "print(counts)"
   ]
  },
  {
   "cell_type": "code",
   "execution_count": 91,
   "metadata": {},
   "outputs": [
    {
     "name": "stdout",
     "output_type": "stream",
     "text": [
      "{'csev': 2, 'cwen': 2, 'zqian': 1}\n"
     ]
    }
   ],
   "source": [
    "counts = dict()\n",
    "names = ['csev', 'cwen', 'csev', 'zqian', 'cwen']\n",
    "for name in names: \n",
    "    # use the get method\n",
    "    counts[name] = counts.get(name, 0) + 1\n",
    "print(counts)"
   ]
  },
  {
   "cell_type": "code",
   "execution_count": 2,
   "metadata": {},
   "outputs": [
    {
     "name": "stdout",
     "output_type": "stream",
     "text": [
      "test test hello count a word frequency in a text of files using dictionary\n"
     ]
    },
    {
     "data": {
      "text/plain": [
       "{'test': 2,\n",
       " 'hello': 1,\n",
       " 'count': 1,\n",
       " 'a': 2,\n",
       " 'word': 1,\n",
       " 'frequency': 1,\n",
       " 'in': 1,\n",
       " 'text': 1,\n",
       " 'of': 1,\n",
       " 'files': 1,\n",
       " 'using': 1,\n",
       " 'dictionary': 1}"
      ]
     },
     "execution_count": 2,
     "metadata": {},
     "output_type": "execute_result"
    }
   ],
   "source": [
    "counts = dict()\n",
    "#fname= input(\"Enter a file name please: \")\n",
    "#fhandle = open(fname, \"r\")\n",
    "line = input('')\n",
    "# splitting the files in arrays\n",
    "words = line.split()\n",
    "for word in words:\n",
    "    counts[word] = counts.get(word, 0) + 1\n",
    "counts"
   ]
  },
  {
   "cell_type": "code",
   "execution_count": 8,
   "metadata": {},
   "outputs": [
    {
     "name": "stdout",
     "output_type": "stream",
     "text": [
      "test 2\n",
      "hello 1\n",
      "count 1\n",
      "a 2\n",
      "word 1\n",
      "frequency 1\n",
      "in 1\n",
      "text 1\n",
      "of 1\n",
      "files 1\n",
      "using 1\n",
      "dictionary 1\n",
      "['test', 'hello', 'count', 'a', 'word', 'frequency', 'in', 'text', 'of', 'files', 'using', 'dictionary']\n",
      "dict_keys(['test', 'hello', 'count', 'a', 'word', 'frequency', 'in', 'text', 'of', 'files', 'using', 'dictionary'])\n",
      "dict_values([2, 1, 1, 2, 1, 1, 1, 1, 1, 1, 1, 1])\n",
      "dict_items([('test', 2), ('hello', 1), ('count', 1), ('a', 2), ('word', 1), ('frequency', 1), ('in', 1), ('text', 1), ('of', 1), ('files', 1), ('using', 1), ('dictionary', 1)])\n"
     ]
    }
   ],
   "source": [
    "for key in counts:\n",
    "    print(key, counts[key])\n",
    "# putting keys in a list\n",
    "print(list(counts))\n",
    "\n",
    "# getting keys in a list \n",
    "print(counts.keys())\n",
    "\n",
    "# getting values of the dictionary\n",
    "print(counts.values())\n",
    "\n",
    "# getting (key, value) pair list\n",
    "print(counts.items())"
   ]
  },
  {
   "cell_type": "code",
   "execution_count": null,
   "metadata": {},
   "outputs": [],
   "source": []
  }
 ],
 "metadata": {
  "kernelspec": {
   "display_name": "Python 3",
   "language": "python",
   "name": "python3"
  },
  "language_info": {
   "codemirror_mode": {
    "name": "ipython",
    "version": 3
   },
   "file_extension": ".py",
   "mimetype": "text/x-python",
   "name": "python",
   "nbconvert_exporter": "python",
   "pygments_lexer": "ipython3",
   "version": "3.7.1"
  }
 },
 "nbformat": 4,
 "nbformat_minor": 2
}
