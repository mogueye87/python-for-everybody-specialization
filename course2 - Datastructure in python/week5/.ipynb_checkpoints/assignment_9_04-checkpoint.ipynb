{
 "cells": [
  {
   "cell_type": "markdown",
   "metadata": {},
   "source": [
    "# Assignment 8.5 week 4"
   ]
  },
  {
   "cell_type": "raw",
   "metadata": {},
   "source": [
    "8.5 Open the file mbox-short.txt and read it line by line. When you find a line that starts with 'From ' like the following line:\n",
    "From stephen.marquard@uct.ac.za Sat Jan  5 09:14:16 2008\n",
    "You will parse the From line using split() and print out the second word in the line (i.e. the entire address of the person who sent the message). Then print out a count at the end.\n",
    "Hint: make sure not to include the lines that start with 'From:'.\n",
    "\n",
    "You can download the sample data at http://www.py4e.com/code3/mbox-short.txt"
   ]
  },
  {
   "cell_type": "code",
   "execution_count": 16,
   "metadata": {},
   "outputs": [
    {
     "name": "stdout",
     "output_type": "stream",
     "text": [
      "Enter file name: mbox-short.txt\n",
      "stephen.marquard@uct.ac.za\n",
      "louis@media.berkeley.edu\n",
      "zqian@umich.edu\n",
      "rjlowe@iupui.edu\n",
      "zqian@umich.edu\n",
      "rjlowe@iupui.edu\n",
      "cwen@iupui.edu\n",
      "cwen@iupui.edu\n",
      "gsilver@umich.edu\n",
      "gsilver@umich.edu\n",
      "zqian@umich.edu\n",
      "gsilver@umich.edu\n",
      "wagnermr@iupui.edu\n",
      "zqian@umich.edu\n",
      "antranig@caret.cam.ac.uk\n",
      "gopal.ramasammycook@gmail.com\n",
      "david.horwitz@uct.ac.za\n",
      "david.horwitz@uct.ac.za\n",
      "david.horwitz@uct.ac.za\n",
      "david.horwitz@uct.ac.za\n",
      "stephen.marquard@uct.ac.za\n",
      "louis@media.berkeley.edu\n",
      "louis@media.berkeley.edu\n",
      "ray@media.berkeley.edu\n",
      "cwen@iupui.edu\n",
      "cwen@iupui.edu\n",
      "cwen@iupui.edu\n",
      "There were 27 lines in the file with From as the first word\n"
     ]
    }
   ],
   "source": [
    "fname = input(\"Enter file name: \")\n",
    "if len(fname) < 1 : fname = \"mbox-short.txt\"\n",
    "\n",
    "fh = open(fname)\n",
    "count = 0\n",
    "for line in fh:\n",
    "    if not line.startswith('From '):\n",
    "        continue\n",
    "    line = line.rstrip()\n",
    "    words = line.split()\n",
    "    count = count + 1\n",
    "    print(words[1])\n",
    "\n",
    "print(\"There were\", count, \"lines in the file with From as the first word\")\n"
   ]
  },
  {
   "cell_type": "markdown",
   "metadata": {},
   "source": [
    "# Assignment 9.4\n"
   ]
  },
  {
   "cell_type": "raw",
   "metadata": {},
   "source": [
    "9.4 Write a program to read through the mbox-short.txt and figure out who has sent the greatest number of mail messages. The program looks for 'From ' lines and takes the second word of those lines as the person who sent the mail. The program creates a Python dictionary that maps the sender's mail address to a count of the number of times they appear in the file. After the dictionary is produced, the program reads through the dictionary using a maximum loop to find the most prolific committer.\n"
   ]
  },
  {
   "cell_type": "code",
   "execution_count": null,
   "metadata": {},
   "outputs": [],
   "source": []
  },
  {
   "cell_type": "code",
   "execution_count": 48,
   "metadata": {},
   "outputs": [
    {
     "name": "stdout",
     "output_type": "stream",
     "text": [
      "Enter file:\n",
      "cwen@iupui.edu 5\n"
     ]
    }
   ],
   "source": [
    "name = input(\"Enter file:\")\n",
    "# on verifie la longueur du fichier si , elle est inférieur à 1, alors on passe le nom \"mbox-short.txt\"\n",
    "if len(name) < 1 : name = \"mbox-short.txt\"\n",
    "handle = open(name)\n",
    "counts = dict()\n",
    "bigCount = None\n",
    "bigWord = None\n",
    "for line in handle:\n",
    "    line = line.rstrip()\n",
    "    if not line.startswith('From '):\n",
    "        continue\n",
    "    words = line.split()\n",
    "    counts[words[1]] = counts.get(words[1], 0) + 1\n",
    "# parcours de la liste des tuples (key, value)\n",
    "# boucle simultanée sur les clés et valeurs\n",
    "for key, value in counts.items():\n",
    "    if bigCount is None or value > bigCount:\n",
    "        bigCount = value\n",
    "        bigWord = key\n",
    "print(bigWord, bigCount)"
   ]
  },
  {
   "cell_type": "code",
   "execution_count": 58,
   "metadata": {},
   "outputs": [
    {
     "name": "stdout",
     "output_type": "stream",
     "text": [
      "Enter file:\n",
      "{'stephen.marquard@uct.ac.za': 2, 'louis@media.berkeley.edu': 3, 'zqian@umich.edu': 4, 'rjlowe@iupui.edu': 2, 'cwen@iupui.edu': 5, 'gsilver@umich.edu': 3, 'wagnermr@iupui.edu': 1, 'antranig@caret.cam.ac.uk': 1, 'gopal.ramasammycook@gmail.com': 1, 'david.horwitz@uct.ac.za': 4, 'ray@media.berkeley.edu': 1}\n",
      "cwen@iupui.edu 5\n"
     ]
    }
   ],
   "source": [
    "name = input(\"Enter file:\")\n",
    "# on verifie la longueur du fichier si , elle est inférieur à 1, alors on passe le nom \"mbox-short.txt\"\n",
    "if len(name) < 1 : name = \"mbox-short.txt\"\n",
    "handle = open(name)\n",
    "counts = dict()\n",
    "bigCount = -1\n",
    "bigWord = None\n",
    "for line in handle:\n",
    "    line = line.rstrip()\n",
    "    if not line.startswith('From '):\n",
    "        continue\n",
    "    words = line.split()\n",
    "    oldCount = counts.get(words[1], 0)\n",
    "    newCount = oldCount + 1\n",
    "    counts[words[1]] = newCount\n",
    "print(counts)\n",
    "    #counts[words[1]] = counts.get(words[1], 0) + 1\n",
    "# parcours de la liste des tuples (key, value)\n",
    "# boucle simultanée sur les clés et valeurs\n",
    "for key, value in counts.items():\n",
    "    if value > bigCount:\n",
    "        bigCount = value\n",
    "        bigWord = key\n",
    "print(bigWord, bigCount)"
   ]
  },
  {
   "cell_type": "code",
   "execution_count": 6,
   "metadata": {},
   "outputs": [
    {
     "name": "stdout",
     "output_type": "stream",
     "text": [
      "true\n"
     ]
    }
   ],
   "source": [
    "x = (5, 1, 3)\n",
    "if (6, 0, 0) > x :\n",
    "    print('true')\n",
    "if (5, 0, 300) > x:\n",
    "    print('true')\n",
    "if (0, 1000, 2000) > x :\n",
    "    print('true')"
   ]
  },
  {
   "cell_type": "code",
   "execution_count": 22,
   "metadata": {},
   "outputs": [
    {
     "name": "stdout",
     "output_type": "stream",
     "text": [
      "[(1, 'a'), (2, 'b')]\n"
     ]
    }
   ],
   "source": [
    "tmp = list()\n",
    "c = {'a': 1, 'b': 2}\n",
    "for k, v in c.items() :\n",
    "    flipped = (v, k)\n",
    "    tmp.append(flipped)\n",
    "#print(tmp.sort.reverse())\n",
    "#print(tmp = sortrev(tmp))\n",
    "print(sorted(tmp, reverse=False))\n",
    "#print(data = tmp.sort(-1))"
   ]
  },
  {
   "cell_type": "code",
   "execution_count": 4,
   "metadata": {},
   "outputs": [
    {
     "data": {
      "text/plain": [
       "'Thu'"
      ]
     },
     "execution_count": 4,
     "metadata": {},
     "output_type": "execute_result"
    }
   ],
   "source": [
    "days = ('Mon', 'Tue', 'Wed', 'Thu', 'Fri', 'Sat', 'Sun')\n",
    "days[2]"
   ]
  },
  {
   "cell_type": "markdown",
   "metadata": {},
   "source": [
    "# Assignement 10.2"
   ]
  },
  {
   "cell_type": "raw",
   "metadata": {},
   "source": [
    "10.2 Write a program to read through the mbox-short.txt and figure out the distribution by hour of the day for each of the messages. You can pull the hour out from the 'From ' line by finding the time and then splitting the string a second time using a colon.\n",
    "From stephen.marquard@uct.ac.za Sat Jan  5 09:14:16 2008\n",
    "Once you have accumulated the counts for each hour, print out the counts, sorted by hour as shown below."
   ]
  },
  {
   "cell_type": "code",
   "execution_count": 20,
   "metadata": {},
   "outputs": [
    {
     "name": "stdout",
     "output_type": "stream",
     "text": [
      "Enter file:\n",
      "04 3\n",
      "06 1\n",
      "07 1\n",
      "09 2\n",
      "10 3\n",
      "11 6\n",
      "14 1\n",
      "15 2\n",
      "16 4\n",
      "17 2\n",
      "18 1\n",
      "19 1\n"
     ]
    }
   ],
   "source": [
    "name = input(\"Enter file:\")\n",
    "# on verifie la longueur du fichier si , elle est inférieur à 1, alors on passe le nom \"mbox-short.txt\"\n",
    "if len(name) < 1 : name = \"mbox-short.txt\"\n",
    "handle = open(name)\n",
    "counts = dict()\n",
    "tmp = list()\n",
    "for line in handle:\n",
    "    line = line.rstrip()\n",
    "    if not line.startswith('From '):\n",
    "        continue\n",
    "    words = line.split()\n",
    "    hour = words[5]\n",
    "    hour = hour.split(\":\")\n",
    "    oldCount = counts.get(hour[0], 0)\n",
    "    newCount = oldCount + 1\n",
    "    counts[hour[0]] = newCount\n",
    "#print(counts)\n",
    "for key, value in sorted(counts.items()):\n",
    "    print(key, value)\n",
    "    # creation d'une liste pour y stocker les (key, value)-pairs\n",
    "    #tmp.append((key, value))\n",
    "#tmp = sorted(tmp, reverse=False)# call of the function sorted in order to have a sorted tuple list\n",
    "#for tup in tmp:\n",
    "    #print(tup[0], tup[1])"
   ]
  },
  {
   "cell_type": "markdown",
   "metadata": {},
   "source": [
    "# Sorting with values"
   ]
  },
  {
   "cell_type": "code",
   "execution_count": 22,
   "metadata": {},
   "outputs": [
    {
     "name": "stdout",
     "output_type": "stream",
     "text": [
      "Enter file:\n",
      "[(3, '04'), (1, '06'), (1, '07'), (2, '09'), (3, '10'), (6, '11'), (1, '14'), (2, '15'), (4, '16'), (2, '17'), (1, '18'), (1, '19')]\n",
      "1 06\n",
      "1 07\n",
      "1 14\n",
      "1 18\n",
      "1 19\n",
      "2 09\n",
      "2 15\n",
      "2 17\n",
      "3 04\n",
      "3 10\n",
      "4 16\n",
      "6 11\n"
     ]
    }
   ],
   "source": [
    "name = input(\"Enter file:\")\n",
    "# on verifie la longueur du fichier si , elle est inférieur à 1, alors on passe le nom \"mbox-short.txt\"\n",
    "if len(name) < 1 : name = \"mbox-short.txt\"\n",
    "handle = open(name)\n",
    "counts = dict()\n",
    "tmp = list()\n",
    "for line in handle:\n",
    "    line = line.rstrip()\n",
    "    if not line.startswith('From '):\n",
    "        continue\n",
    "    words = line.split()\n",
    "    hour = words[5]\n",
    "    hour = hour.split(\":\")\n",
    "    oldCount = counts.get(hour[0], 0)\n",
    "    newCount = oldCount + 1\n",
    "    counts[hour[0]] = newCount\n",
    "for value, key in sorted(counts.items()):\n",
    "    flipped = (key, value)\n",
    "    tmp.append(flipped)\n",
    "print(tmp)\n",
    "for v, k in sorted(tmp):\n",
    "    print(v, k)"
   ]
  },
  {
   "cell_type": "code",
   "execution_count": null,
   "metadata": {},
   "outputs": [],
   "source": []
  }
 ],
 "metadata": {
  "kernelspec": {
   "display_name": "Python 3",
   "language": "python",
   "name": "python3"
  },
  "language_info": {
   "codemirror_mode": {
    "name": "ipython",
    "version": 3
   },
   "file_extension": ".py",
   "mimetype": "text/x-python",
   "name": "python",
   "nbconvert_exporter": "python",
   "pygments_lexer": "ipython3",
   "version": "3.7.1"
  }
 },
 "nbformat": 4,
 "nbformat_minor": 2
}
